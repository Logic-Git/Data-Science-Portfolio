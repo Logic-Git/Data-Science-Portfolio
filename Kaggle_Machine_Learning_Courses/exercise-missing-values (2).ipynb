{
 "cells": [
  {
   "cell_type": "markdown",
   "id": "238cda6c",
   "metadata": {
    "papermill": {
     "duration": 0.012431,
     "end_time": "2024-08-03T23:39:11.883534",
     "exception": false,
     "start_time": "2024-08-03T23:39:11.871103",
     "status": "completed"
    },
    "tags": []
   },
   "source": [
    "**This notebook is an exercise in the [Intermediate Machine Learning](https://www.kaggle.com/learn/intermediate-machine-learning) course.  You can reference the tutorial at [this link](https://www.kaggle.com/alexisbcook/missing-values).**\n",
    "\n",
    "---\n"
   ]
  },
  {
   "cell_type": "markdown",
   "id": "8bdc03e7",
   "metadata": {
    "papermill": {
     "duration": 0.011405,
     "end_time": "2024-08-03T23:39:11.907120",
     "exception": false,
     "start_time": "2024-08-03T23:39:11.895715",
     "status": "completed"
    },
    "tags": []
   },
   "source": [
    "Now it's your turn to test your new knowledge of **missing values** handling. You'll probably find it makes a big difference.\n",
    "\n",
    "# Setup\n",
    "\n",
    "The questions will give you feedback on your work. Run the following cell to set up the feedback system."
   ]
  },
  {
   "cell_type": "code",
   "execution_count": 1,
   "id": "f600945f",
   "metadata": {
    "execution": {
     "iopub.execute_input": "2024-08-03T23:39:11.933177Z",
     "iopub.status.busy": "2024-08-03T23:39:11.932623Z",
     "iopub.status.idle": "2024-08-03T23:39:13.043552Z",
     "shell.execute_reply": "2024-08-03T23:39:13.042162Z"
    },
    "papermill": {
     "duration": 1.127482,
     "end_time": "2024-08-03T23:39:13.046481",
     "exception": false,
     "start_time": "2024-08-03T23:39:11.918999",
     "status": "completed"
    },
    "tags": []
   },
   "outputs": [
    {
     "name": "stdout",
     "output_type": "stream",
     "text": [
      "Setup Complete\n"
     ]
    }
   ],
   "source": [
    "# Set up code checking\n",
    "import os\n",
    "if not os.path.exists(\"../input/train.csv\"):\n",
    "    os.symlink(\"../input/home-data-for-ml-course/train.csv\", \"../input/train.csv\")  \n",
    "    os.symlink(\"../input/home-data-for-ml-course/test.csv\", \"../input/test.csv\") \n",
    "from learntools.core import binder\n",
    "binder.bind(globals())\n",
    "from learntools.ml_intermediate.ex2 import *\n",
    "print(\"Setup Complete\")"
   ]
  },
  {
   "cell_type": "markdown",
   "id": "731705e0",
   "metadata": {
    "papermill": {
     "duration": 0.0116,
     "end_time": "2024-08-03T23:39:13.070440",
     "exception": false,
     "start_time": "2024-08-03T23:39:13.058840",
     "status": "completed"
    },
    "tags": []
   },
   "source": [
    "In this exercise, you will work with data from the [Housing Prices Competition for Kaggle Learn Users](https://www.kaggle.com/c/home-data-for-ml-course). \n",
    "\n",
    "![Ames Housing dataset image](https://storage.googleapis.com/kaggle-media/learn/images/lTJVG4e.png)\n",
    "\n",
    "Run the next code cell without changes to load the training and validation sets in `X_train`, `X_valid`, `y_train`, and `y_valid`.  The test set is loaded in `X_test`."
   ]
  },
  {
   "cell_type": "code",
   "execution_count": 2,
   "id": "b0294349",
   "metadata": {
    "execution": {
     "iopub.execute_input": "2024-08-03T23:39:13.097811Z",
     "iopub.status.busy": "2024-08-03T23:39:13.096275Z",
     "iopub.status.idle": "2024-08-03T23:39:14.725537Z",
     "shell.execute_reply": "2024-08-03T23:39:14.724223Z"
    },
    "papermill": {
     "duration": 1.646069,
     "end_time": "2024-08-03T23:39:14.728672",
     "exception": false,
     "start_time": "2024-08-03T23:39:13.082603",
     "status": "completed"
    },
    "tags": []
   },
   "outputs": [],
   "source": [
    "import pandas as pd\n",
    "from sklearn.model_selection import train_test_split\n",
    "\n",
    "# Read the data\n",
    "X_full = pd.read_csv('../input/train.csv', index_col='Id')\n",
    "X_test_full = pd.read_csv('../input/test.csv', index_col='Id')\n",
    "\n",
    "# Remove rows with missing target, separate target from predictors\n",
    "X_full.dropna(axis=0, subset=['SalePrice'], inplace=True)\n",
    "y = X_full.SalePrice\n",
    "X_full.drop(['SalePrice'], axis=1, inplace=True)\n",
    "\n",
    "# To keep things simple, we'll use only numerical predictors\n",
    "X = X_full.select_dtypes(exclude=['object'])\n",
    "X_test = X_test_full.select_dtypes(exclude=['object'])\n",
    "\n",
    "# Break off validation set from training data\n",
    "X_train, X_valid, y_train, y_valid = train_test_split(X, y, train_size=0.8, test_size=0.2,\n",
    "                                                      random_state=0)"
   ]
  },
  {
   "cell_type": "markdown",
   "id": "ae61118f",
   "metadata": {
    "papermill": {
     "duration": 0.012112,
     "end_time": "2024-08-03T23:39:14.753234",
     "exception": false,
     "start_time": "2024-08-03T23:39:14.741122",
     "status": "completed"
    },
    "tags": []
   },
   "source": [
    "Use the next code cell to print the first five rows of the data."
   ]
  },
  {
   "cell_type": "code",
   "execution_count": 3,
   "id": "6175d5ca",
   "metadata": {
    "execution": {
     "iopub.execute_input": "2024-08-03T23:39:14.780917Z",
     "iopub.status.busy": "2024-08-03T23:39:14.780379Z",
     "iopub.status.idle": "2024-08-03T23:39:14.814584Z",
     "shell.execute_reply": "2024-08-03T23:39:14.813418Z"
    },
    "papermill": {
     "duration": 0.051997,
     "end_time": "2024-08-03T23:39:14.817927",
     "exception": false,
     "start_time": "2024-08-03T23:39:14.765930",
     "status": "completed"
    },
    "tags": []
   },
   "outputs": [
    {
     "data": {
      "text/html": [
       "<div>\n",
       "<style scoped>\n",
       "    .dataframe tbody tr th:only-of-type {\n",
       "        vertical-align: middle;\n",
       "    }\n",
       "\n",
       "    .dataframe tbody tr th {\n",
       "        vertical-align: top;\n",
       "    }\n",
       "\n",
       "    .dataframe thead th {\n",
       "        text-align: right;\n",
       "    }\n",
       "</style>\n",
       "<table border=\"1\" class=\"dataframe\">\n",
       "  <thead>\n",
       "    <tr style=\"text-align: right;\">\n",
       "      <th></th>\n",
       "      <th>MSSubClass</th>\n",
       "      <th>LotFrontage</th>\n",
       "      <th>LotArea</th>\n",
       "      <th>OverallQual</th>\n",
       "      <th>OverallCond</th>\n",
       "      <th>YearBuilt</th>\n",
       "      <th>YearRemodAdd</th>\n",
       "      <th>MasVnrArea</th>\n",
       "      <th>BsmtFinSF1</th>\n",
       "      <th>BsmtFinSF2</th>\n",
       "      <th>...</th>\n",
       "      <th>GarageArea</th>\n",
       "      <th>WoodDeckSF</th>\n",
       "      <th>OpenPorchSF</th>\n",
       "      <th>EnclosedPorch</th>\n",
       "      <th>3SsnPorch</th>\n",
       "      <th>ScreenPorch</th>\n",
       "      <th>PoolArea</th>\n",
       "      <th>MiscVal</th>\n",
       "      <th>MoSold</th>\n",
       "      <th>YrSold</th>\n",
       "    </tr>\n",
       "    <tr>\n",
       "      <th>Id</th>\n",
       "      <th></th>\n",
       "      <th></th>\n",
       "      <th></th>\n",
       "      <th></th>\n",
       "      <th></th>\n",
       "      <th></th>\n",
       "      <th></th>\n",
       "      <th></th>\n",
       "      <th></th>\n",
       "      <th></th>\n",
       "      <th></th>\n",
       "      <th></th>\n",
       "      <th></th>\n",
       "      <th></th>\n",
       "      <th></th>\n",
       "      <th></th>\n",
       "      <th></th>\n",
       "      <th></th>\n",
       "      <th></th>\n",
       "      <th></th>\n",
       "      <th></th>\n",
       "    </tr>\n",
       "  </thead>\n",
       "  <tbody>\n",
       "    <tr>\n",
       "      <th>619</th>\n",
       "      <td>20</td>\n",
       "      <td>90.0</td>\n",
       "      <td>11694</td>\n",
       "      <td>9</td>\n",
       "      <td>5</td>\n",
       "      <td>2007</td>\n",
       "      <td>2007</td>\n",
       "      <td>452.0</td>\n",
       "      <td>48</td>\n",
       "      <td>0</td>\n",
       "      <td>...</td>\n",
       "      <td>774</td>\n",
       "      <td>0</td>\n",
       "      <td>108</td>\n",
       "      <td>0</td>\n",
       "      <td>0</td>\n",
       "      <td>260</td>\n",
       "      <td>0</td>\n",
       "      <td>0</td>\n",
       "      <td>7</td>\n",
       "      <td>2007</td>\n",
       "    </tr>\n",
       "    <tr>\n",
       "      <th>871</th>\n",
       "      <td>20</td>\n",
       "      <td>60.0</td>\n",
       "      <td>6600</td>\n",
       "      <td>5</td>\n",
       "      <td>5</td>\n",
       "      <td>1962</td>\n",
       "      <td>1962</td>\n",
       "      <td>0.0</td>\n",
       "      <td>0</td>\n",
       "      <td>0</td>\n",
       "      <td>...</td>\n",
       "      <td>308</td>\n",
       "      <td>0</td>\n",
       "      <td>0</td>\n",
       "      <td>0</td>\n",
       "      <td>0</td>\n",
       "      <td>0</td>\n",
       "      <td>0</td>\n",
       "      <td>0</td>\n",
       "      <td>8</td>\n",
       "      <td>2009</td>\n",
       "    </tr>\n",
       "    <tr>\n",
       "      <th>93</th>\n",
       "      <td>30</td>\n",
       "      <td>80.0</td>\n",
       "      <td>13360</td>\n",
       "      <td>5</td>\n",
       "      <td>7</td>\n",
       "      <td>1921</td>\n",
       "      <td>2006</td>\n",
       "      <td>0.0</td>\n",
       "      <td>713</td>\n",
       "      <td>0</td>\n",
       "      <td>...</td>\n",
       "      <td>432</td>\n",
       "      <td>0</td>\n",
       "      <td>0</td>\n",
       "      <td>44</td>\n",
       "      <td>0</td>\n",
       "      <td>0</td>\n",
       "      <td>0</td>\n",
       "      <td>0</td>\n",
       "      <td>8</td>\n",
       "      <td>2009</td>\n",
       "    </tr>\n",
       "    <tr>\n",
       "      <th>818</th>\n",
       "      <td>20</td>\n",
       "      <td>NaN</td>\n",
       "      <td>13265</td>\n",
       "      <td>8</td>\n",
       "      <td>5</td>\n",
       "      <td>2002</td>\n",
       "      <td>2002</td>\n",
       "      <td>148.0</td>\n",
       "      <td>1218</td>\n",
       "      <td>0</td>\n",
       "      <td>...</td>\n",
       "      <td>857</td>\n",
       "      <td>150</td>\n",
       "      <td>59</td>\n",
       "      <td>0</td>\n",
       "      <td>0</td>\n",
       "      <td>0</td>\n",
       "      <td>0</td>\n",
       "      <td>0</td>\n",
       "      <td>7</td>\n",
       "      <td>2008</td>\n",
       "    </tr>\n",
       "    <tr>\n",
       "      <th>303</th>\n",
       "      <td>20</td>\n",
       "      <td>118.0</td>\n",
       "      <td>13704</td>\n",
       "      <td>7</td>\n",
       "      <td>5</td>\n",
       "      <td>2001</td>\n",
       "      <td>2002</td>\n",
       "      <td>150.0</td>\n",
       "      <td>0</td>\n",
       "      <td>0</td>\n",
       "      <td>...</td>\n",
       "      <td>843</td>\n",
       "      <td>468</td>\n",
       "      <td>81</td>\n",
       "      <td>0</td>\n",
       "      <td>0</td>\n",
       "      <td>0</td>\n",
       "      <td>0</td>\n",
       "      <td>0</td>\n",
       "      <td>1</td>\n",
       "      <td>2006</td>\n",
       "    </tr>\n",
       "  </tbody>\n",
       "</table>\n",
       "<p>5 rows × 36 columns</p>\n",
       "</div>"
      ],
      "text/plain": [
       "     MSSubClass  LotFrontage  LotArea  OverallQual  OverallCond  YearBuilt  \\\n",
       "Id                                                                           \n",
       "619          20         90.0    11694            9            5       2007   \n",
       "871          20         60.0     6600            5            5       1962   \n",
       "93           30         80.0    13360            5            7       1921   \n",
       "818          20          NaN    13265            8            5       2002   \n",
       "303          20        118.0    13704            7            5       2001   \n",
       "\n",
       "     YearRemodAdd  MasVnrArea  BsmtFinSF1  BsmtFinSF2  ...  GarageArea  \\\n",
       "Id                                                     ...               \n",
       "619          2007       452.0          48           0  ...         774   \n",
       "871          1962         0.0           0           0  ...         308   \n",
       "93           2006         0.0         713           0  ...         432   \n",
       "818          2002       148.0        1218           0  ...         857   \n",
       "303          2002       150.0           0           0  ...         843   \n",
       "\n",
       "     WoodDeckSF  OpenPorchSF  EnclosedPorch  3SsnPorch  ScreenPorch  PoolArea  \\\n",
       "Id                                                                              \n",
       "619           0          108              0          0          260         0   \n",
       "871           0            0              0          0            0         0   \n",
       "93            0            0             44          0            0         0   \n",
       "818         150           59              0          0            0         0   \n",
       "303         468           81              0          0            0         0   \n",
       "\n",
       "     MiscVal  MoSold  YrSold  \n",
       "Id                            \n",
       "619        0       7    2007  \n",
       "871        0       8    2009  \n",
       "93         0       8    2009  \n",
       "818        0       7    2008  \n",
       "303        0       1    2006  \n",
       "\n",
       "[5 rows x 36 columns]"
      ]
     },
     "execution_count": 3,
     "metadata": {},
     "output_type": "execute_result"
    }
   ],
   "source": [
    "X_train.head()"
   ]
  },
  {
   "cell_type": "markdown",
   "id": "c0b8a97f",
   "metadata": {
    "papermill": {
     "duration": 0.012257,
     "end_time": "2024-08-03T23:39:14.844451",
     "exception": false,
     "start_time": "2024-08-03T23:39:14.832194",
     "status": "completed"
    },
    "tags": []
   },
   "source": [
    "You can already see a few missing values in the first several rows.  In the next step, you'll obtain a more comprehensive understanding of the missing values in the dataset.\n",
    "\n",
    "# Step 1: Preliminary investigation\n",
    "\n",
    "Run the code cell below without changes."
   ]
  },
  {
   "cell_type": "code",
   "execution_count": 4,
   "id": "5faba0ed",
   "metadata": {
    "execution": {
     "iopub.execute_input": "2024-08-03T23:39:14.873573Z",
     "iopub.status.busy": "2024-08-03T23:39:14.873089Z",
     "iopub.status.idle": "2024-08-03T23:39:14.882927Z",
     "shell.execute_reply": "2024-08-03T23:39:14.881677Z"
    },
    "papermill": {
     "duration": 0.028157,
     "end_time": "2024-08-03T23:39:14.886406",
     "exception": false,
     "start_time": "2024-08-03T23:39:14.858249",
     "status": "completed"
    },
    "tags": []
   },
   "outputs": [
    {
     "name": "stdout",
     "output_type": "stream",
     "text": [
      "(1168, 36)\n",
      "LotFrontage    212\n",
      "MasVnrArea       6\n",
      "GarageYrBlt     58\n",
      "dtype: int64\n"
     ]
    }
   ],
   "source": [
    "# Shape of training data (num_rows, num_columns)\n",
    "print(X_train.shape)\n",
    "\n",
    "# Number of missing values in each column of training data\n",
    "missing_val_count_by_column = (X_train.isnull().sum())\n",
    "print(missing_val_count_by_column[missing_val_count_by_column > 0])"
   ]
  },
  {
   "cell_type": "markdown",
   "id": "991c42c5",
   "metadata": {
    "papermill": {
     "duration": 0.012537,
     "end_time": "2024-08-03T23:39:14.912070",
     "exception": false,
     "start_time": "2024-08-03T23:39:14.899533",
     "status": "completed"
    },
    "tags": []
   },
   "source": [
    "### Part A\n",
    "\n",
    "Use the above output to answer the questions below."
   ]
  },
  {
   "cell_type": "code",
   "execution_count": 5,
   "id": "4b1745af",
   "metadata": {
    "execution": {
     "iopub.execute_input": "2024-08-03T23:39:14.940162Z",
     "iopub.status.busy": "2024-08-03T23:39:14.939115Z",
     "iopub.status.idle": "2024-08-03T23:39:14.950568Z",
     "shell.execute_reply": "2024-08-03T23:39:14.949351Z"
    },
    "papermill": {
     "duration": 0.028008,
     "end_time": "2024-08-03T23:39:14.952969",
     "exception": false,
     "start_time": "2024-08-03T23:39:14.924961",
     "status": "completed"
    },
    "tags": []
   },
   "outputs": [
    {
     "data": {
      "application/javascript": "parent.postMessage({\"jupyterEvent\": \"custom.exercise_interaction\", \"data\": {\"outcomeType\": 1, \"valueTowardsCompletion\": 1.0, \"interactionType\": 1, \"questionType\": 1, \"questionId\": \"1.1_InvestigateEquality\", \"learnToolsVersion\": \"0.3.4\", \"failureMessage\": \"\", \"exceptionClass\": \"\", \"trace\": \"\"}}, \"*\")",
      "text/plain": [
       "<IPython.core.display.Javascript object>"
      ]
     },
     "metadata": {},
     "output_type": "display_data"
    },
    {
     "data": {
      "text/markdown": [
       "<span style=\"color:#33cc33\">Correct</span>"
      ],
      "text/plain": [
       "Correct"
      ]
     },
     "metadata": {},
     "output_type": "display_data"
    }
   ],
   "source": [
    "# Fill in the line below: How many rows are in the training data?\n",
    "num_rows = 1168\n",
    "\n",
    "# Fill in the line below: How many columns in the training data\n",
    "# have missing values?\n",
    "num_cols_with_missing = 3\n",
    "\n",
    "# Fill in the line below: How many missing entries are contained in \n",
    "# all of the training data?\n",
    "tot_missing = 276\n",
    "\n",
    "# Check your answers\n",
    "step_1.a.check()"
   ]
  },
  {
   "cell_type": "code",
   "execution_count": 6,
   "id": "5ee15fe9",
   "metadata": {
    "execution": {
     "iopub.execute_input": "2024-08-03T23:39:14.981414Z",
     "iopub.status.busy": "2024-08-03T23:39:14.980920Z",
     "iopub.status.idle": "2024-08-03T23:39:14.986544Z",
     "shell.execute_reply": "2024-08-03T23:39:14.985238Z"
    },
    "papermill": {
     "duration": 0.023572,
     "end_time": "2024-08-03T23:39:14.989634",
     "exception": false,
     "start_time": "2024-08-03T23:39:14.966062",
     "status": "completed"
    },
    "tags": []
   },
   "outputs": [],
   "source": [
    "# Lines below will give you a hint or solution code\n",
    "#step_1.a.hint()\n",
    "#step_1.a.solution()"
   ]
  },
  {
   "cell_type": "markdown",
   "id": "f7268588",
   "metadata": {
    "papermill": {
     "duration": 0.013565,
     "end_time": "2024-08-03T23:39:15.017150",
     "exception": false,
     "start_time": "2024-08-03T23:39:15.003585",
     "status": "completed"
    },
    "tags": []
   },
   "source": [
    "### Part B\n",
    "Considering your answers above, what do you think is likely the best approach to dealing with the missing values?"
   ]
  },
  {
   "cell_type": "code",
   "execution_count": 7,
   "id": "c8b5554b",
   "metadata": {
    "execution": {
     "iopub.execute_input": "2024-08-03T23:39:15.046697Z",
     "iopub.status.busy": "2024-08-03T23:39:15.046231Z",
     "iopub.status.idle": "2024-08-03T23:39:15.056516Z",
     "shell.execute_reply": "2024-08-03T23:39:15.055386Z"
    },
    "papermill": {
     "duration": 0.027611,
     "end_time": "2024-08-03T23:39:15.059021",
     "exception": false,
     "start_time": "2024-08-03T23:39:15.031410",
     "status": "completed"
    },
    "tags": []
   },
   "outputs": [
    {
     "data": {
      "application/javascript": "parent.postMessage({\"jupyterEvent\": \"custom.exercise_interaction\", \"data\": {\"outcomeType\": 1, \"valueTowardsCompletion\": 1.0, \"interactionType\": 1, \"questionType\": 4, \"questionId\": \"1.2_InvestigateThought\", \"learnToolsVersion\": \"0.3.4\", \"failureMessage\": \"\", \"exceptionClass\": \"\", \"trace\": \"\"}}, \"*\")",
      "text/plain": [
       "<IPython.core.display.Javascript object>"
      ]
     },
     "metadata": {},
     "output_type": "display_data"
    },
    {
     "data": {
      "text/markdown": [
       "<span style=\"color:#33cc33\">Correct:</span> \n",
       "\n",
       "Since there are relatively few missing entries in the data (the column with the greatest percentage of missing values is missing less than 20% of its entries), we can expect that dropping columns is unlikely to yield good results.  This is because we'd be throwing away a lot of valuable data, and so imputation will likely perform better."
      ],
      "text/plain": [
       "Correct: \n",
       "\n",
       "Since there are relatively few missing entries in the data (the column with the greatest percentage of missing values is missing less than 20% of its entries), we can expect that dropping columns is unlikely to yield good results.  This is because we'd be throwing away a lot of valuable data, and so imputation will likely perform better."
      ]
     },
     "metadata": {},
     "output_type": "display_data"
    }
   ],
   "source": [
    "# Check your answer (Run this code cell to receive credit!)\n",
    "step_1.b.check()"
   ]
  },
  {
   "cell_type": "code",
   "execution_count": 8,
   "id": "333df97d",
   "metadata": {
    "execution": {
     "iopub.execute_input": "2024-08-03T23:39:15.088069Z",
     "iopub.status.busy": "2024-08-03T23:39:15.087554Z",
     "iopub.status.idle": "2024-08-03T23:39:15.093033Z",
     "shell.execute_reply": "2024-08-03T23:39:15.091750Z"
    },
    "papermill": {
     "duration": 0.023022,
     "end_time": "2024-08-03T23:39:15.095485",
     "exception": false,
     "start_time": "2024-08-03T23:39:15.072463",
     "status": "completed"
    },
    "tags": []
   },
   "outputs": [],
   "source": [
    "#step_1.b.hint()"
   ]
  },
  {
   "cell_type": "markdown",
   "id": "e6a008b4",
   "metadata": {
    "papermill": {
     "duration": 0.013095,
     "end_time": "2024-08-03T23:39:15.122467",
     "exception": false,
     "start_time": "2024-08-03T23:39:15.109372",
     "status": "completed"
    },
    "tags": []
   },
   "source": [
    "To compare different approaches to dealing with missing values, you'll use the same `score_dataset()` function from the tutorial.  This function reports the [mean absolute error](https://en.wikipedia.org/wiki/Mean_absolute_error) (MAE) from a random forest model."
   ]
  },
  {
   "cell_type": "code",
   "execution_count": 9,
   "id": "de88f319",
   "metadata": {
    "execution": {
     "iopub.execute_input": "2024-08-03T23:39:15.152066Z",
     "iopub.status.busy": "2024-08-03T23:39:15.151101Z",
     "iopub.status.idle": "2024-08-03T23:39:15.583062Z",
     "shell.execute_reply": "2024-08-03T23:39:15.581841Z"
    },
    "papermill": {
     "duration": 0.450157,
     "end_time": "2024-08-03T23:39:15.586203",
     "exception": false,
     "start_time": "2024-08-03T23:39:15.136046",
     "status": "completed"
    },
    "tags": []
   },
   "outputs": [],
   "source": [
    "from sklearn.ensemble import RandomForestRegressor\n",
    "from sklearn.metrics import mean_absolute_error\n",
    "\n",
    "# Function for comparing different approaches\n",
    "def score_dataset(X_train, X_valid, y_train, y_valid):\n",
    "    model = RandomForestRegressor(n_estimators=100, random_state=0)\n",
    "    model.fit(X_train, y_train)\n",
    "    preds = model.predict(X_valid)\n",
    "    return mean_absolute_error(y_valid, preds)"
   ]
  },
  {
   "cell_type": "markdown",
   "id": "90ce2315",
   "metadata": {
    "papermill": {
     "duration": 0.014127,
     "end_time": "2024-08-03T23:39:15.614582",
     "exception": false,
     "start_time": "2024-08-03T23:39:15.600455",
     "status": "completed"
    },
    "tags": []
   },
   "source": [
    "# Step 2: Drop columns with missing values\n",
    "\n",
    "In this step, you'll preprocess the data in `X_train` and `X_valid` to remove columns with missing values.  Set the preprocessed DataFrames to `reduced_X_train` and `reduced_X_valid`, respectively.  "
   ]
  },
  {
   "cell_type": "code",
   "execution_count": 10,
   "id": "5c2c5c3b",
   "metadata": {
    "execution": {
     "iopub.execute_input": "2024-08-03T23:39:15.644806Z",
     "iopub.status.busy": "2024-08-03T23:39:15.643707Z",
     "iopub.status.idle": "2024-08-03T23:39:15.672191Z",
     "shell.execute_reply": "2024-08-03T23:39:15.671043Z"
    },
    "papermill": {
     "duration": 0.046732,
     "end_time": "2024-08-03T23:39:15.675056",
     "exception": false,
     "start_time": "2024-08-03T23:39:15.628324",
     "status": "completed"
    },
    "tags": []
   },
   "outputs": [
    {
     "data": {
      "application/javascript": "parent.postMessage({\"jupyterEvent\": \"custom.exercise_interaction\", \"data\": {\"outcomeType\": 1, \"valueTowardsCompletion\": 1.0, \"interactionType\": 1, \"questionType\": 2, \"questionId\": \"2_DropMissing\", \"learnToolsVersion\": \"0.3.4\", \"failureMessage\": \"\", \"exceptionClass\": \"\", \"trace\": \"\"}}, \"*\")",
      "text/plain": [
       "<IPython.core.display.Javascript object>"
      ]
     },
     "metadata": {},
     "output_type": "display_data"
    },
    {
     "data": {
      "text/markdown": [
       "<span style=\"color:#33cc33\">Correct</span>"
      ],
      "text/plain": [
       "Correct"
      ]
     },
     "metadata": {},
     "output_type": "display_data"
    }
   ],
   "source": [
    "# Fill in the line below: get names of columns with missing values\n",
    "col_missing = [col for col in X_train.columns if X_train[col].isnull().any()] # Your code here\n",
    "\n",
    "# Fill in the lines below: drop columns in training and validation data\n",
    "reduced_X_train = X_train.drop(col_missing, axis =1)\n",
    "reduced_X_valid = X_valid.drop(col_missing, axis = 1)\n",
    "\n",
    "\n",
    "# Check your answers\n",
    "step_2.check()"
   ]
  },
  {
   "cell_type": "code",
   "execution_count": 11,
   "id": "7fb5c015",
   "metadata": {
    "execution": {
     "iopub.execute_input": "2024-08-03T23:39:15.706482Z",
     "iopub.status.busy": "2024-08-03T23:39:15.705161Z",
     "iopub.status.idle": "2024-08-03T23:39:15.710473Z",
     "shell.execute_reply": "2024-08-03T23:39:15.709423Z"
    },
    "papermill": {
     "duration": 0.023996,
     "end_time": "2024-08-03T23:39:15.713163",
     "exception": false,
     "start_time": "2024-08-03T23:39:15.689167",
     "status": "completed"
    },
    "tags": []
   },
   "outputs": [],
   "source": [
    "# Lines below will give you a hint or solution code\n",
    "#step_2.hint()\n",
    "#step_2.solution()"
   ]
  },
  {
   "cell_type": "markdown",
   "id": "fe93e652",
   "metadata": {
    "papermill": {
     "duration": 0.013654,
     "end_time": "2024-08-03T23:39:15.741542",
     "exception": false,
     "start_time": "2024-08-03T23:39:15.727888",
     "status": "completed"
    },
    "tags": []
   },
   "source": [
    "Run the next code cell without changes to obtain the MAE for this approach."
   ]
  },
  {
   "cell_type": "code",
   "execution_count": 12,
   "id": "59c1fb3d",
   "metadata": {
    "execution": {
     "iopub.execute_input": "2024-08-03T23:39:15.771868Z",
     "iopub.status.busy": "2024-08-03T23:39:15.771362Z",
     "iopub.status.idle": "2024-08-03T23:39:17.208130Z",
     "shell.execute_reply": "2024-08-03T23:39:17.206729Z"
    },
    "papermill": {
     "duration": 1.455518,
     "end_time": "2024-08-03T23:39:17.211046",
     "exception": false,
     "start_time": "2024-08-03T23:39:15.755528",
     "status": "completed"
    },
    "tags": []
   },
   "outputs": [
    {
     "name": "stdout",
     "output_type": "stream",
     "text": [
      "MAE (Drop columns with missing values):\n",
      "17837.82570776256\n"
     ]
    }
   ],
   "source": [
    "print(\"MAE (Drop columns with missing values):\")\n",
    "print(score_dataset(reduced_X_train, reduced_X_valid, y_train, y_valid))"
   ]
  },
  {
   "cell_type": "markdown",
   "id": "e9e0966c",
   "metadata": {
    "papermill": {
     "duration": 0.014253,
     "end_time": "2024-08-03T23:39:17.239375",
     "exception": false,
     "start_time": "2024-08-03T23:39:17.225122",
     "status": "completed"
    },
    "tags": []
   },
   "source": [
    "# Step 3: Imputation\n",
    "\n",
    "### Part A\n",
    "\n",
    "Use the next code cell to impute missing values with the mean value along each column.  Set the preprocessed DataFrames to `imputed_X_train` and `imputed_X_valid`.  Make sure that the column names match those in `X_train` and `X_valid`."
   ]
  },
  {
   "cell_type": "code",
   "execution_count": 13,
   "id": "415da4bc",
   "metadata": {
    "execution": {
     "iopub.execute_input": "2024-08-03T23:39:17.270165Z",
     "iopub.status.busy": "2024-08-03T23:39:17.269241Z",
     "iopub.status.idle": "2024-08-03T23:39:17.307291Z",
     "shell.execute_reply": "2024-08-03T23:39:17.306047Z"
    },
    "papermill": {
     "duration": 0.056421,
     "end_time": "2024-08-03T23:39:17.309800",
     "exception": false,
     "start_time": "2024-08-03T23:39:17.253379",
     "status": "completed"
    },
    "tags": []
   },
   "outputs": [
    {
     "data": {
      "application/javascript": "parent.postMessage({\"jupyterEvent\": \"custom.exercise_interaction\", \"data\": {\"outcomeType\": 1, \"valueTowardsCompletion\": 1.0, \"interactionType\": 1, \"questionType\": 2, \"questionId\": \"3.1_ImputeCode\", \"learnToolsVersion\": \"0.3.4\", \"failureMessage\": \"\", \"exceptionClass\": \"\", \"trace\": \"\"}}, \"*\")",
      "text/plain": [
       "<IPython.core.display.Javascript object>"
      ]
     },
     "metadata": {},
     "output_type": "display_data"
    },
    {
     "data": {
      "text/markdown": [
       "<span style=\"color:#33cc33\">Correct</span>"
      ],
      "text/plain": [
       "Correct"
      ]
     },
     "metadata": {},
     "output_type": "display_data"
    }
   ],
   "source": [
    "from sklearn.impute import SimpleImputer\n",
    "\n",
    "# Fill in the lines below: imputation\n",
    "imputer = SimpleImputer() # Your code here\n",
    "imputed_X_train = pd.DataFrame(imputer.fit_transform(X_train))\n",
    "imputed_X_valid = pd.DataFrame(imputer.transform(X_valid))\n",
    "\n",
    "# Fill in the lines below: imputation removed column names; put them back\n",
    "imputed_X_train.columns = X_train.columns\n",
    "imputed_X_valid.columns = X_valid.columns\n",
    "\n",
    "# Check your answers\n",
    "step_3.a.check()"
   ]
  },
  {
   "cell_type": "code",
   "execution_count": 14,
   "id": "5fd79a28",
   "metadata": {
    "execution": {
     "iopub.execute_input": "2024-08-03T23:39:17.341242Z",
     "iopub.status.busy": "2024-08-03T23:39:17.340236Z",
     "iopub.status.idle": "2024-08-03T23:39:17.346143Z",
     "shell.execute_reply": "2024-08-03T23:39:17.344796Z"
    },
    "papermill": {
     "duration": 0.025188,
     "end_time": "2024-08-03T23:39:17.349379",
     "exception": false,
     "start_time": "2024-08-03T23:39:17.324191",
     "status": "completed"
    },
    "tags": []
   },
   "outputs": [],
   "source": [
    "# Lines below will give you a hint or solution code\n",
    "#step_3.a.hint()\n",
    "#step_3.a.solution()"
   ]
  },
  {
   "cell_type": "markdown",
   "id": "20b2c9b5",
   "metadata": {
    "papermill": {
     "duration": 0.013959,
     "end_time": "2024-08-03T23:39:17.378739",
     "exception": false,
     "start_time": "2024-08-03T23:39:17.364780",
     "status": "completed"
    },
    "tags": []
   },
   "source": [
    "Run the next code cell without changes to obtain the MAE for this approach."
   ]
  },
  {
   "cell_type": "code",
   "execution_count": 15,
   "id": "2528c49e",
   "metadata": {
    "execution": {
     "iopub.execute_input": "2024-08-03T23:39:17.410711Z",
     "iopub.status.busy": "2024-08-03T23:39:17.409881Z",
     "iopub.status.idle": "2024-08-03T23:39:18.975615Z",
     "shell.execute_reply": "2024-08-03T23:39:18.974311Z"
    },
    "papermill": {
     "duration": 1.585425,
     "end_time": "2024-08-03T23:39:18.979146",
     "exception": false,
     "start_time": "2024-08-03T23:39:17.393721",
     "status": "completed"
    },
    "tags": []
   },
   "outputs": [
    {
     "name": "stdout",
     "output_type": "stream",
     "text": [
      "MAE (Imputation):\n",
      "18062.894611872147\n"
     ]
    }
   ],
   "source": [
    "print(\"MAE (Imputation):\")\n",
    "print(score_dataset(imputed_X_train, imputed_X_valid, y_train, y_valid))"
   ]
  },
  {
   "cell_type": "markdown",
   "id": "8ed7d2cc",
   "metadata": {
    "papermill": {
     "duration": 0.015996,
     "end_time": "2024-08-03T23:39:19.015524",
     "exception": false,
     "start_time": "2024-08-03T23:39:18.999528",
     "status": "completed"
    },
    "tags": []
   },
   "source": [
    "### Part B\n",
    "\n",
    "Compare the MAE from each approach.  Does anything surprise you about the results?  Why do you think one approach performed better than the other?"
   ]
  },
  {
   "cell_type": "code",
   "execution_count": 16,
   "id": "d8dd2d5a",
   "metadata": {
    "execution": {
     "iopub.execute_input": "2024-08-03T23:39:19.049213Z",
     "iopub.status.busy": "2024-08-03T23:39:19.047926Z",
     "iopub.status.idle": "2024-08-03T23:39:19.058333Z",
     "shell.execute_reply": "2024-08-03T23:39:19.057303Z"
    },
    "papermill": {
     "duration": 0.030163,
     "end_time": "2024-08-03T23:39:19.061141",
     "exception": false,
     "start_time": "2024-08-03T23:39:19.030978",
     "status": "completed"
    },
    "tags": []
   },
   "outputs": [
    {
     "data": {
      "application/javascript": "parent.postMessage({\"jupyterEvent\": \"custom.exercise_interaction\", \"data\": {\"outcomeType\": 1, \"valueTowardsCompletion\": 1.0, \"interactionType\": 1, \"questionType\": 4, \"questionId\": \"3.2_ImputeThought\", \"learnToolsVersion\": \"0.3.4\", \"failureMessage\": \"\", \"exceptionClass\": \"\", \"trace\": \"\"}}, \"*\")",
      "text/plain": [
       "<IPython.core.display.Javascript object>"
      ]
     },
     "metadata": {},
     "output_type": "display_data"
    },
    {
     "data": {
      "text/markdown": [
       "<span style=\"color:#33cc33\">Correct:</span> \n",
       "\n",
       "Given that thre are so few missing values in the dataset, we'd expect imputation to perform better than dropping columns entirely.  However, we see that dropping columns performs slightly better!  While this can probably partially be attributed to noise in the dataset, another potential explanation is that the imputation method is not a great match to this dataset.  That is, maybe instead of filling in the mean value, it makes more sense to set every missing value to a value of 0, to fill in the most frequently encountered value, or to use some other method.  For instance, consider the `GarageYrBlt` column (which indicates the year that the garage was built).  It's likely that in some cases, a missing value could indicate a house that does not have a garage.  Does it make more sense to fill in the median value along each column in this case?  Or could we get better results by filling in the minimum value along each column?  It's not quite clear what's best in this case, but perhaps we can rule out some options immediately - for instance, setting missing values in this column to 0 is likely to yield horrible results!"
      ],
      "text/plain": [
       "Correct: \n",
       "\n",
       "Given that thre are so few missing values in the dataset, we'd expect imputation to perform better than dropping columns entirely.  However, we see that dropping columns performs slightly better!  While this can probably partially be attributed to noise in the dataset, another potential explanation is that the imputation method is not a great match to this dataset.  That is, maybe instead of filling in the mean value, it makes more sense to set every missing value to a value of 0, to fill in the most frequently encountered value, or to use some other method.  For instance, consider the `GarageYrBlt` column (which indicates the year that the garage was built).  It's likely that in some cases, a missing value could indicate a house that does not have a garage.  Does it make more sense to fill in the median value along each column in this case?  Or could we get better results by filling in the minimum value along each column?  It's not quite clear what's best in this case, but perhaps we can rule out some options immediately - for instance, setting missing values in this column to 0 is likely to yield horrible results!"
      ]
     },
     "metadata": {},
     "output_type": "display_data"
    }
   ],
   "source": [
    "# Check your answer (Run this code cell to receive credit!)\n",
    "step_3.b.check()"
   ]
  },
  {
   "cell_type": "code",
   "execution_count": 17,
   "id": "2f8ae490",
   "metadata": {
    "execution": {
     "iopub.execute_input": "2024-08-03T23:39:19.097091Z",
     "iopub.status.busy": "2024-08-03T23:39:19.095726Z",
     "iopub.status.idle": "2024-08-03T23:39:19.102470Z",
     "shell.execute_reply": "2024-08-03T23:39:19.101164Z"
    },
    "papermill": {
     "duration": 0.02839,
     "end_time": "2024-08-03T23:39:19.106026",
     "exception": false,
     "start_time": "2024-08-03T23:39:19.077636",
     "status": "completed"
    },
    "tags": []
   },
   "outputs": [],
   "source": [
    "#step_3.b.hint()"
   ]
  },
  {
   "cell_type": "markdown",
   "id": "bc1ac47e",
   "metadata": {
    "papermill": {
     "duration": 0.015905,
     "end_time": "2024-08-03T23:39:19.143566",
     "exception": false,
     "start_time": "2024-08-03T23:39:19.127661",
     "status": "completed"
    },
    "tags": []
   },
   "source": [
    "# Step 4: Generate test predictions\n",
    "\n",
    "In this final step, you'll use any approach of your choosing to deal with missing values.  Once you've preprocessed the training and validation features, you'll train and evaluate a random forest model.  Then, you'll preprocess the test data before generating predictions that can be submitted to the competition!\n",
    "\n",
    "### Part A\n",
    "\n",
    "Use the next code cell to preprocess the training and validation data.  Set the preprocessed DataFrames to `final_X_train` and `final_X_valid`.  **You can use any approach of your choosing here!**  in order for this step to be marked as correct, you need only ensure:\n",
    "- the preprocessed DataFrames have the same number of columns,\n",
    "- the preprocessed DataFrames have no missing values, \n",
    "- `final_X_train` and `y_train` have the same number of rows, and\n",
    "- `final_X_valid` and `y_valid` have the same number of rows."
   ]
  },
  {
   "cell_type": "code",
   "execution_count": 18,
   "id": "89c570fb",
   "metadata": {
    "execution": {
     "iopub.execute_input": "2024-08-03T23:39:19.177013Z",
     "iopub.status.busy": "2024-08-03T23:39:19.176386Z",
     "iopub.status.idle": "2024-08-03T23:39:19.228496Z",
     "shell.execute_reply": "2024-08-03T23:39:19.227362Z"
    },
    "papermill": {
     "duration": 0.074819,
     "end_time": "2024-08-03T23:39:19.233957",
     "exception": false,
     "start_time": "2024-08-03T23:39:19.159138",
     "status": "completed"
    },
    "tags": []
   },
   "outputs": [
    {
     "name": "stdout",
     "output_type": "stream",
     "text": [
      "      MSSubClass  LotFrontage  LotArea  OverallQual  OverallCond  YearBuilt  \\\n",
      "Id                                                                            \n",
      "619           20    90.000000    11694            9            5       2007   \n",
      "871           20    60.000000     6600            5            5       1962   \n",
      "93            30    80.000000    13360            5            7       1921   \n",
      "818           20    69.614017    13265            8            5       2002   \n",
      "303           20   118.000000    13704            7            5       2001   \n",
      "...          ...          ...      ...          ...          ...        ...   \n",
      "764           60    82.000000     9430            8            5       1999   \n",
      "836           20    60.000000     9600            4            7       1950   \n",
      "1217          90    68.000000     8930            6            5       1978   \n",
      "560          120    69.614017     3196            7            5       2003   \n",
      "685           60    58.000000    16770            7            5       1998   \n",
      "\n",
      "      YearRemodAdd  MasVnrArea  BsmtFinSF1  BsmtFinSF2  ...  GarageArea  \\\n",
      "Id                                                      ...               \n",
      "619           2007       452.0          48           0  ...         774   \n",
      "871           1962         0.0           0           0  ...         308   \n",
      "93            2006         0.0         713           0  ...         432   \n",
      "818           2002       148.0        1218           0  ...         857   \n",
      "303           2002       150.0           0           0  ...         843   \n",
      "...            ...         ...         ...         ...  ...         ...   \n",
      "764           1999       673.0        1163           0  ...         856   \n",
      "836           1995         0.0         442           0  ...         436   \n",
      "1217          1978         0.0           0           0  ...         539   \n",
      "560           2004        18.0           0           0  ...         420   \n",
      "685           1998        30.0           0           0  ...         486   \n",
      "\n",
      "      WoodDeckSF  OpenPorchSF  EnclosedPorch  3SsnPorch  ScreenPorch  \\\n",
      "Id                                                                     \n",
      "619            0          108              0          0          260   \n",
      "871            0            0              0          0            0   \n",
      "93             0            0             44          0            0   \n",
      "818          150           59              0          0            0   \n",
      "303          468           81              0          0            0   \n",
      "...          ...          ...            ...        ...          ...   \n",
      "764            0          128              0          0          180   \n",
      "836          290            0              0          0            0   \n",
      "1217           0            0              0          0            0   \n",
      "560          143           20              0          0            0   \n",
      "685            0           81              0          0            0   \n",
      "\n",
      "      PoolArea  MiscVal  MoSold  YrSold  \n",
      "Id                                       \n",
      "619          0        0       7    2007  \n",
      "871          0        0       8    2009  \n",
      "93           0        0       8    2009  \n",
      "818          0        0       7    2008  \n",
      "303          0        0       1    2006  \n",
      "...        ...      ...     ...     ...  \n",
      "764          0        0       7    2009  \n",
      "836          0        0       2    2010  \n",
      "1217         0        0       4    2010  \n",
      "560          0        0      10    2006  \n",
      "685          0        0       6    2010  \n",
      "\n",
      "[1168 rows x 36 columns]\n"
     ]
    },
    {
     "data": {
      "application/javascript": "parent.postMessage({\"jupyterEvent\": \"custom.exercise_interaction\", \"data\": {\"outcomeType\": 1, \"valueTowardsCompletion\": 1.0, \"interactionType\": 1, \"questionType\": 2, \"questionId\": \"4.1_PredsCodeA\", \"learnToolsVersion\": \"0.3.4\", \"failureMessage\": \"\", \"exceptionClass\": \"\", \"trace\": \"\"}}, \"*\")",
      "text/plain": [
       "<IPython.core.display.Javascript object>"
      ]
     },
     "metadata": {},
     "output_type": "display_data"
    },
    {
     "data": {
      "text/markdown": [
       "<span style=\"color:#33cc33\">Correct</span>"
      ],
      "text/plain": [
       "Correct"
      ]
     },
     "metadata": {},
     "output_type": "display_data"
    }
   ],
   "source": [
    "# Preprocessed training and validation features\n",
    "\n",
    "'''\n",
    "Here, the reason I used simple imputation for LotFrontage was beacause I hypothesized that there cannot be any house without a front.\n",
    "Therefore, all missing values in the LotFrontage column must jsut be missing so simple imputation makes the most sense.\n",
    "\n",
    "In the case of Masonry Vaneer Area (MasVnrArea), I hypothesized that a missing value in this colum might mean that the house does not\n",
    "have a Masonry Vaneer. Therefore, I replaced the missing values with 0.\n",
    "\n",
    "For the year in which the garage was built (GarageYrBuilt), I assumed that the missing value might mean that the house did not have a\n",
    "garage. Therefore, I replaced that column with a boolean colum that had the value 1 if GarageYrBuilt was not missing and 0 if \n",
    "GarageYrBuilt was missing. Therefore, the column had 1 if the house had a garage according to my hypothesis and 0 if it did not.\n",
    "I did this because I thought the presence of a garage might be an important predictor of the price of the house.\n",
    "'''\n",
    "\n",
    "# 1. Replace missing values in col1 using SimpleImputer\n",
    "imputer_col1 = SimpleImputer()\n",
    "X_train_2 = X_train\n",
    "X_train_2['LotFrontage'] = imputer_col1.fit_transform(X_train[['LotFrontage']])\n",
    "\n",
    "# 2. Replace missing values in col2 with 0\n",
    "X_train_2['MasVnrArea']=X_train_2['MasVnrArea'].fillna(0)\n",
    "\n",
    "# 3. Replace missing values in col3 with 1 and other values with 0\n",
    "X_train_2['GarageYrBlt'] = X_train['GarageYrBlt'].fillna(0).apply(lambda x: 1 if x != 0 else 0)\n",
    "\n",
    "X_valid_2 = X_valid\n",
    "X_valid_2['LotFrontage'] = imputer_col1.transform(X_valid[['LotFrontage']])\n",
    "\n",
    "# 2. Replace missing values in col2 with 0\n",
    "X_valid_2['MasVnrArea'] = X_valid_2['MasVnrArea'].fillna(0)\n",
    "\n",
    "# 3. Replace missing values in col3 with 1 and other values with 0\n",
    "X_valid_2['GarageYrBlt'] = X_valid['GarageYrBlt'].fillna(0).apply(lambda x: 1 if x != 0 else 0)\n",
    "# Display the updated DataFrame\n",
    "print(X_train)\n",
    "final_X_train = X_train_2\n",
    "final_X_valid = X_valid_2\n",
    "\n",
    "# Check your answers\n",
    "step_4.a.check()"
   ]
  },
  {
   "cell_type": "code",
   "execution_count": 19,
   "id": "dec550dc",
   "metadata": {
    "execution": {
     "iopub.execute_input": "2024-08-03T23:39:19.269960Z",
     "iopub.status.busy": "2024-08-03T23:39:19.268829Z",
     "iopub.status.idle": "2024-08-03T23:39:19.274469Z",
     "shell.execute_reply": "2024-08-03T23:39:19.273272Z"
    },
    "papermill": {
     "duration": 0.026342,
     "end_time": "2024-08-03T23:39:19.277832",
     "exception": false,
     "start_time": "2024-08-03T23:39:19.251490",
     "status": "completed"
    },
    "tags": []
   },
   "outputs": [],
   "source": [
    "# Lines below will give you a hint or solution code\n",
    "#step_4.a.hint()\n",
    "#step_4.a.solution()"
   ]
  },
  {
   "cell_type": "markdown",
   "id": "1434e76c",
   "metadata": {
    "papermill": {
     "duration": 0.016459,
     "end_time": "2024-08-03T23:39:19.315709",
     "exception": false,
     "start_time": "2024-08-03T23:39:19.299250",
     "status": "completed"
    },
    "tags": []
   },
   "source": [
    "Run the next code cell to train and evaluate a random forest model.  (*Note that we don't use the `score_dataset()` function above, because we will soon use the trained model to generate test predictions!*)"
   ]
  },
  {
   "cell_type": "code",
   "execution_count": 20,
   "id": "42f75800",
   "metadata": {
    "execution": {
     "iopub.execute_input": "2024-08-03T23:39:19.350242Z",
     "iopub.status.busy": "2024-08-03T23:39:19.348721Z",
     "iopub.status.idle": "2024-08-03T23:39:20.819260Z",
     "shell.execute_reply": "2024-08-03T23:39:20.817793Z"
    },
    "papermill": {
     "duration": 1.490955,
     "end_time": "2024-08-03T23:39:20.822413",
     "exception": false,
     "start_time": "2024-08-03T23:39:19.331458",
     "status": "completed"
    },
    "tags": []
   },
   "outputs": [
    {
     "name": "stdout",
     "output_type": "stream",
     "text": [
      "MAE (Your approach):\n",
      "17843.92315068493\n"
     ]
    }
   ],
   "source": [
    "# Define and fit model\n",
    "model = RandomForestRegressor(n_estimators=100, random_state=0)\n",
    "model.fit(final_X_train, y_train)\n",
    "\n",
    "# Get validation predictions and MAE\n",
    "preds_valid = model.predict(final_X_valid)\n",
    "print(\"MAE (Your approach):\")\n",
    "print(mean_absolute_error(y_valid, preds_valid))"
   ]
  },
  {
   "cell_type": "markdown",
   "id": "32648129",
   "metadata": {
    "papermill": {
     "duration": 0.015749,
     "end_time": "2024-08-03T23:39:20.854294",
     "exception": false,
     "start_time": "2024-08-03T23:39:20.838545",
     "status": "completed"
    },
    "tags": []
   },
   "source": [
    "### Part B\n",
    "\n",
    "Use the next code cell to preprocess your test data.  Make sure that you use a method that agrees with how you preprocessed the training and validation data, and set the preprocessed test features to `final_X_test`.\n",
    "\n",
    "Then, use the preprocessed test features and the trained model to generate test predictions in `preds_test`.\n",
    "\n",
    "In order for this step to be marked correct, you need only ensure:\n",
    "- the preprocessed test DataFrame has no missing values, and\n",
    "- `final_X_test` has the same number of rows as `X_test`."
   ]
  },
  {
   "cell_type": "code",
   "execution_count": 21,
   "id": "14c7761b",
   "metadata": {
    "execution": {
     "iopub.execute_input": "2024-08-03T23:39:20.890495Z",
     "iopub.status.busy": "2024-08-03T23:39:20.889986Z",
     "iopub.status.idle": "2024-08-03T23:39:20.947714Z",
     "shell.execute_reply": "2024-08-03T23:39:20.946343Z"
    },
    "papermill": {
     "duration": 0.079893,
     "end_time": "2024-08-03T23:39:20.950820",
     "exception": false,
     "start_time": "2024-08-03T23:39:20.870927",
     "status": "completed"
    },
    "tags": []
   },
   "outputs": [
    {
     "name": "stdout",
     "output_type": "stream",
     "text": [
      "(1459, 36)\n",
      "LotFrontage     227\n",
      "MasVnrArea       15\n",
      "BsmtFinSF1        1\n",
      "BsmtFinSF2        1\n",
      "BsmtUnfSF         1\n",
      "TotalBsmtSF       1\n",
      "BsmtFullBath      2\n",
      "BsmtHalfBath      2\n",
      "GarageYrBlt      78\n",
      "GarageCars        1\n",
      "GarageArea        1\n",
      "dtype: int64\n"
     ]
    },
    {
     "data": {
      "application/javascript": "parent.postMessage({\"jupyterEvent\": \"custom.exercise_interaction\", \"data\": {\"outcomeType\": 1, \"valueTowardsCompletion\": 1.0, \"interactionType\": 1, \"questionType\": 2, \"questionId\": \"4.2_PredsCodeB\", \"learnToolsVersion\": \"0.3.4\", \"failureMessage\": \"\", \"exceptionClass\": \"\", \"trace\": \"\"}}, \"*\")",
      "text/plain": [
       "<IPython.core.display.Javascript object>"
      ]
     },
     "metadata": {},
     "output_type": "display_data"
    },
    {
     "data": {
      "text/markdown": [
       "<span style=\"color:#33cc33\">Correct</span>"
      ],
      "text/plain": [
       "Correct"
      ]
     },
     "metadata": {},
     "output_type": "display_data"
    }
   ],
   "source": [
    "# Shape of training data (num_rows, num_columns)\n",
    "print(X_test.shape)\n",
    "\n",
    "# Number of missing values in each column of training data\n",
    "missing_val_count_by_column = (X_test.isnull().sum())\n",
    "print(missing_val_count_by_column[missing_val_count_by_column > 0])\n",
    "\n",
    "\n",
    "#Real start\n",
    "test_imputer = SimpleImputer()\n",
    "imputed_X_test = pd.DataFrame(imputer.fit_transform(X_test))\n",
    "\n",
    "# Fill in the lines below: imputation removed column names; put them back\n",
    "imputed_X_test.columns = X_test.columns\n",
    "\n",
    "# Fill in the line below: preprocess test data\n",
    "final_X_test = imputed_X_test\n",
    "\n",
    "# Fill in the line below: get test predictions\n",
    "preds_test = model.predict(final_X_test)\n",
    "\n",
    "# Check your answers\n",
    "step_4.b.check()"
   ]
  },
  {
   "cell_type": "code",
   "execution_count": 22,
   "id": "19c950e8",
   "metadata": {
    "execution": {
     "iopub.execute_input": "2024-08-03T23:39:20.987439Z",
     "iopub.status.busy": "2024-08-03T23:39:20.986163Z",
     "iopub.status.idle": "2024-08-03T23:39:20.991982Z",
     "shell.execute_reply": "2024-08-03T23:39:20.990608Z"
    },
    "papermill": {
     "duration": 0.027136,
     "end_time": "2024-08-03T23:39:20.994753",
     "exception": false,
     "start_time": "2024-08-03T23:39:20.967617",
     "status": "completed"
    },
    "tags": []
   },
   "outputs": [],
   "source": [
    "# Lines below will give you a hint or solution code\n",
    "#step_4.b.hint()\n",
    "#step_4.b.solution()"
   ]
  },
  {
   "cell_type": "markdown",
   "id": "479ceb34",
   "metadata": {
    "papermill": {
     "duration": 0.110643,
     "end_time": "2024-08-03T23:39:21.123388",
     "exception": false,
     "start_time": "2024-08-03T23:39:21.012745",
     "status": "completed"
    },
    "tags": []
   },
   "source": [
    "Run the next code cell without changes to save your results to a CSV file that can be submitted directly to the competition."
   ]
  },
  {
   "cell_type": "code",
   "execution_count": 23,
   "id": "906868c2",
   "metadata": {
    "execution": {
     "iopub.execute_input": "2024-08-03T23:39:21.158799Z",
     "iopub.status.busy": "2024-08-03T23:39:21.157792Z",
     "iopub.status.idle": "2024-08-03T23:39:21.173190Z",
     "shell.execute_reply": "2024-08-03T23:39:21.171770Z"
    },
    "papermill": {
     "duration": 0.036666,
     "end_time": "2024-08-03T23:39:21.176431",
     "exception": false,
     "start_time": "2024-08-03T23:39:21.139765",
     "status": "completed"
    },
    "tags": []
   },
   "outputs": [],
   "source": [
    "# Save test predictions to file\n",
    "output = pd.DataFrame({'Id': X_test.index,\n",
    "                       'SalePrice': preds_test})\n",
    "output.to_csv('submission.csv', index=False)"
   ]
  },
  {
   "cell_type": "markdown",
   "id": "ae209da9",
   "metadata": {
    "papermill": {
     "duration": 0.017106,
     "end_time": "2024-08-03T23:39:21.210712",
     "exception": false,
     "start_time": "2024-08-03T23:39:21.193606",
     "status": "completed"
    },
    "tags": []
   },
   "source": [
    "# Submit your results\n",
    "\n",
    "Once you have successfully completed Step 4, you're ready to submit your results to the leaderboard!  (_You also learned how to do this in the previous exercise.  If you need a reminder of how to do this, please use the instructions below._)  \n",
    "\n",
    "First, you'll need to join the competition if you haven't already.  So open a new window by clicking on [this link](https://www.kaggle.com/c/home-data-for-ml-course).  Then click on the **Join Competition** button.\n",
    "\n",
    "![join competition image](https://storage.googleapis.com/kaggle-media/learn/images/wLmFtH3.png)\n",
    "\n",
    "Next, follow the instructions below:\n",
    "1. Begin by clicking on the **Save Version** button in the top right corner of the window.  This will generate a pop-up window.  \n",
    "2. Ensure that the **Save and Run All** option is selected, and then click on the **Save** button.\n",
    "3. This generates a window in the bottom left corner of the notebook.  After it has finished running, click on the number to the right of the **Save Version** button.  This pulls up a list of versions on the right of the screen.  Click on the ellipsis **(...)** to the right of the most recent version, and select **Open in Viewer**.  This brings you into view mode of the same page. You will need to scroll down to get back to these instructions.\n",
    "4. Click on the **Data** tab near the top of the screen.  Then, click on the file you would like to submit, and click on the **Submit** button to submit your results to the leaderboard.\n",
    "\n",
    "You have now successfully submitted to the competition!\n",
    "\n",
    "If you want to keep working to improve your performance, select the **Edit** button in the top right of the screen. Then you can change your code and repeat the process. There's a lot of room to improve, and you will climb up the leaderboard as you work.\n",
    "\n",
    "\n",
    "# Keep going\n",
    "\n",
    "Move on to learn what **[categorical variables](https://www.kaggle.com/alexisbcook/categorical-variables)** are, along with how to incorporate them into your machine learning models.  Categorical variables are very common in real-world data, but you'll get an error if you try to plug them into your models without processing them first!"
   ]
  },
  {
   "cell_type": "markdown",
   "id": "55acfb45",
   "metadata": {
    "papermill": {
     "duration": 0.016132,
     "end_time": "2024-08-03T23:39:21.243514",
     "exception": false,
     "start_time": "2024-08-03T23:39:21.227382",
     "status": "completed"
    },
    "tags": []
   },
   "source": [
    "---\n",
    "\n",
    "\n",
    "\n",
    "\n",
    "*Have questions or comments? Visit the [course discussion forum](https://www.kaggle.com/learn/intermediate-machine-learning/discussion) to chat with other learners.*"
   ]
  }
 ],
 "metadata": {
  "kaggle": {
   "accelerator": "none",
   "dataSources": [
    {
     "databundleVersionId": 111096,
     "sourceId": 10211,
     "sourceType": "competition"
    }
   ],
   "isGpuEnabled": false,
   "isInternetEnabled": false,
   "language": "python",
   "sourceType": "notebook"
  },
  "kernelspec": {
   "display_name": "Python 3",
   "language": "python",
   "name": "python3"
  },
  "language_info": {
   "codemirror_mode": {
    "name": "ipython",
    "version": 3
   },
   "file_extension": ".py",
   "mimetype": "text/x-python",
   "name": "python",
   "nbconvert_exporter": "python",
   "pygments_lexer": "ipython3",
   "version": "3.10.13"
  },
  "papermill": {
   "default_parameters": {},
   "duration": 13.825741,
   "end_time": "2024-08-03T23:39:22.187222",
   "environment_variables": {},
   "exception": null,
   "input_path": "__notebook__.ipynb",
   "output_path": "__notebook__.ipynb",
   "parameters": {},
   "start_time": "2024-08-03T23:39:08.361481",
   "version": "2.5.0"
  }
 },
 "nbformat": 4,
 "nbformat_minor": 5
}
