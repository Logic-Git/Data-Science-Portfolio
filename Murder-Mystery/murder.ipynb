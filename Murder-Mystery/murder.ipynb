{
 "cells": [
  {
   "cell_type": "code",
   "execution_count": 21,
   "metadata": {},
   "outputs": [],
   "source": [
    "import sqlite3\n",
    "import pandas as pd\n",
    "import matplotlib.pyplot as plt"
   ]
  },
  {
   "cell_type": "code",
   "execution_count": 22,
   "metadata": {},
   "outputs": [],
   "source": [
    "database= \"sql-murder-mystery.db\""
   ]
  },
  {
   "cell_type": "code",
   "execution_count": 23,
   "metadata": {},
   "outputs": [],
   "source": [
    "connection = sqlite3.connect(database)\n",
    "cur = connection.cursor()"
   ]
  },
  {
   "cell_type": "code",
   "execution_count": 24,
   "metadata": {},
   "outputs": [],
   "source": [
    "#Making a function to facilitate running queries\n",
    "def runquery(query):\n",
    "    res = cur.execute(query)\n",
    "    return res.fetchall()\n",
    "\n",
    "def runquerylist(queries):\n",
    "    results = []\n",
    "    for query in queries:\n",
    "        results.append(runquery(query))\n",
    "    for i, result in enumerate(results):\n",
    "        for row in result:\n",
    "            print(row)\n",
    "        print(\"\\n\")\n",
    "    "
   ]
  },
  {
   "cell_type": "code",
   "execution_count": 25,
   "metadata": {},
   "outputs": [
    {
     "data": {
      "text/plain": [
       "[(20180115,\n",
       "  'murder',\n",
       "  'Security footage shows that there were 2 witnesses. The first witness lives at the last house on \"Northwestern Dr\". The second witness, named Annabel, lives somewhere on \"Franklin Ave\".',\n",
       "  'SQL City')]"
      ]
     },
     "execution_count": 25,
     "metadata": {},
     "output_type": "execute_result"
    }
   ],
   "source": [
    "#The following query uses information from the prompt to pull up the crime scene report\n",
    "runquery(\"select * from crime_scene_report where city='SQL City' and date = 20180115 and type = 'murder' \")"
   ]
  },
  {
   "cell_type": "code",
   "execution_count": 26,
   "metadata": {},
   "outputs": [
    {
     "data": {
      "text/plain": [
       "[(14887, 'Morty Schapiro', 118009, 4919, 'Northwestern Dr', 111564949)]"
      ]
     },
     "execution_count": 26,
     "metadata": {},
     "output_type": "execute_result"
    }
   ],
   "source": [
    "#Trying to find the first witness from the report. Assuming that the last house has the highest address number\n",
    "runquery(\"select * from person where address_street_name = 'Northwestern Dr' order by address_number desc limit 1\")"
   ]
  },
  {
   "cell_type": "code",
   "execution_count": 28,
   "metadata": {},
   "outputs": [
    {
     "data": {
      "text/plain": [
       "[('I heard a gunshot and then saw a man run out. He had a \"Get Fit Now Gym\" bag. The membership number on the bag started with \"48Z\". Only gold members have those bags. The man got into a car with a plate that included \"H42W\".',)]"
      ]
     },
     "execution_count": 28,
     "metadata": {},
     "output_type": "execute_result"
    }
   ],
   "source": [
    "#From the above quere, we get to know that the person_id of the first wittness is 14887\n",
    "runquery(\"select transcript from interview where person_id = 14887\")"
   ]
  },
  {
   "cell_type": "code",
   "execution_count": 29,
   "metadata": {},
   "outputs": [
    {
     "data": {
      "text/plain": [
       "[]"
      ]
     },
     "execution_count": 29,
     "metadata": {},
     "output_type": "execute_result"
    }
   ],
   "source": [
    "#Now, we try to find the interview of the second witness in the same way to gather more clues about the murderer\n",
    "runquery(\"select * from person where address_street_name = 'Franklin Ave' and name = 'Annabel' \")\n"
   ]
  },
  {
   "cell_type": "code",
   "execution_count": 30,
   "metadata": {},
   "outputs": [
    {
     "data": {
      "text/plain": [
       "[(16371, 'Annabel Miller', 490173, 103, 'Franklin Ave', 318771143)]"
      ]
     },
     "execution_count": 30,
     "metadata": {},
     "output_type": "execute_result"
    }
   ],
   "source": [
    "#Since the above does not return anything, maybe Annabel is not the full name of the person\n",
    "runquery(\"select * from person where address_street_name = 'Franklin Ave' and person.name like 'Annabel%' \")"
   ]
  },
  {
   "cell_type": "code",
   "execution_count": 31,
   "metadata": {},
   "outputs": [
    {
     "data": {
      "text/plain": [
       "[('I saw the murder happen, and I recognized the killer from my gym when I was working out last week on January the 9th.',)]"
      ]
     },
     "execution_count": 31,
     "metadata": {},
     "output_type": "execute_result"
    }
   ],
   "source": [
    "runquery(\"select transcript from interview where person_id = 16371\")"
   ]
  },
  {
   "cell_type": "code",
   "execution_count": 32,
   "metadata": {},
   "outputs": [
    {
     "name": "stdout",
     "output_type": "stream",
     "text": [
      "(14887, 4719, 'The Funky Grooves Tour', 20180115)\n",
      "\n",
      "\n",
      "(16371, 4719, 'The Funky Grooves Tour', 20180115)\n",
      "\n",
      "\n"
     ]
    }
   ],
   "source": [
    "#Checking if facebook activity of the winesses has any useful clues.\n",
    "runquerylist([\"select * from facebook_event_checkin where person_id=14887\",\n",
    "              \"select * from facebook_event_checkin where person_id=16371\"])"
   ]
  },
  {
   "cell_type": "code",
   "execution_count": 33,
   "metadata": {},
   "outputs": [
    {
     "data": {
      "text/plain": [
       "[('48Z7A', 20180109, 1600, 1730)]"
      ]
     },
     "execution_count": 33,
     "metadata": {},
     "output_type": "execute_result"
    }
   ],
   "source": [
    "runquery(\"select * from get_fit_now_check_in where membership_id = '48Z7A' \")\n",
    "\n",
    "# and id = (select membership_id from get_fit_now_check_in where check_in_date = 20180109)"
   ]
  },
  {
   "cell_type": "code",
   "execution_count": 34,
   "metadata": {},
   "outputs": [
    {
     "data": {
      "text/plain": [
       "[('48Z55', 67318, 'Jeremy Bowers', 20160101, 'gold'),\n",
       " ('48Z7A', 28819, 'Joe Germuska', 20160305, 'gold')]"
      ]
     },
     "execution_count": 34,
     "metadata": {},
     "output_type": "execute_result"
    }
   ],
   "source": [
    "#No useful clue was found while checking acebook activity. Now, we use all the other useful clues to try to find the murderer\n",
    "#Uptil now, we know that the membership number of the person started with 48Z, that he had a gold memebrship and he was working out on January 9 2018\n",
    "runquery(\"select * from get_fit_now_member where membership_status = 'gold' and id like '48Z%' and id in (select membership_id from get_fit_now_check_in where check_in_date = 20180109)\")"
   ]
  },
  {
   "cell_type": "code",
   "execution_count": 35,
   "metadata": {},
   "outputs": [
    {
     "data": {
      "text/plain": [
       "[(423327, 30, 70, 'brown', 'brown', 'male', '0H42W2', 'Chevrolet', 'Spark LS')]"
      ]
     },
     "execution_count": 35,
     "metadata": {},
     "output_type": "execute_result"
    }
   ],
   "source": [
    "#Using the previous query, we narrowed the suspects down to 2. Now we also know that the number plate of the murderer's car included H42W so we use that.\n",
    "runquery(\"select * from drivers_license where plate_number like '%H42W%' and id = (select license_id from person where id = (select person_id from get_fit_now_member where id = '48Z55'))\")\n",
    "#Notice that we designed the query such that we only get a result if the suspect fits all the clues. If it does not fit the license plate clue, we get nothing."
   ]
  },
  {
   "cell_type": "code",
   "execution_count": 36,
   "metadata": {},
   "outputs": [
    {
     "data": {
      "text/plain": [
       "[]"
      ]
     },
     "execution_count": 36,
     "metadata": {},
     "output_type": "execute_result"
    }
   ],
   "source": [
    "runquery(\"select * from drivers_license where plate_number like '%H42W%' and id = (select license_id from person where id = (select person_id from get_fit_now_member where id = '48Z7A'))\")\n",
    "#Since we got a result for the first query but not second, we conclude that the persno with gym membership id '48Z55' is the murderer."
   ]
  },
  {
   "cell_type": "code",
   "execution_count": 37,
   "metadata": {},
   "outputs": [
    {
     "data": {
      "text/plain": [
       "[(\"Congrats, you found the murderer! But wait, there's more... If you think you're up for a challenge, try querying the interview transcript of the murderer to find the real villain behind this crime. If you feel especially confident in your SQL skills, try to complete this final step with no more than 2 queries. Use this same INSERT statement with your new suspect to check your answer.\",)]"
      ]
     },
     "execution_count": 37,
     "metadata": {},
     "output_type": "execute_result"
    }
   ],
   "source": [
    "#This was designed by the challenge designer to check your answer\n",
    "runquery(\"INSERT INTO solution VALUES (1, 'Jeremy Bowers')\")\n",
    "        \n",
    "runquery(\"SELECT value FROM solution\")"
   ]
  },
  {
   "cell_type": "code",
   "execution_count": 38,
   "metadata": {},
   "outputs": [
    {
     "data": {
      "text/plain": [
       "[(67318,\n",
       "  'I was hired by a woman with a lot of money. I don\\'t know her name but I know she\\'s around 5\\'5\" (65\") or 5\\'7\" (67\"). She has red hair and she drives a Tesla Model S. I know that she attended the SQL Symphony Concert 3 times in December 2017.\\n')]"
      ]
     },
     "execution_count": 38,
     "metadata": {},
     "output_type": "execute_result"
    }
   ],
   "source": [
    "#From our previous query where we found the gym membership information of Jeremy Bowers, we can see that his person_id is 67318. We use this to find his interview.\n",
    "runquery(\"select * from interview where person_id = 67318\")"
   ]
  },
  {
   "cell_type": "code",
   "execution_count": 39,
   "metadata": {},
   "outputs": [
    {
     "data": {
      "text/plain": [
       "[(99716, 'Miranda Priestly', 202298, 1883, 'Golden Ave', 987756388)]"
      ]
     },
     "execution_count": 39,
     "metadata": {},
     "output_type": "execute_result"
    }
   ],
   "source": [
    "#A single query that looks through the database for the persson that satisfies all the clues given by the murderer.\n",
    "runquery(\"select * from person where id = (select person_id from facebook_event_checkin where event_name = 'SQL Symphony Concert' and cast(date as varchar) like '201712%' intersect select id from person where license_id = (select id from drivers_license where 65<=height and height<=67 and hair_color = 'red' and gender = 'female' and car_make = 'Tesla' and car_model = 'Model S')) \")"
   ]
  },
  {
   "cell_type": "code",
   "execution_count": 40,
   "metadata": {},
   "outputs": [
    {
     "data": {
      "text/plain": [
       "[('Congrats, you found the brains behind the murder! Everyone in SQL City hails you as the greatest SQL detective of all time. Time to break out the champagne!',)]"
      ]
     },
     "execution_count": 40,
     "metadata": {},
     "output_type": "execute_result"
    }
   ],
   "source": [
    "#Checking our solution again.\n",
    "runquery(\"INSERT INTO solution VALUES (1, 'Miranda Priestly')\")\n",
    "        \n",
    "runquery(\"SELECT value FROM solution\")"
   ]
  },
  {
   "cell_type": "code",
   "execution_count": 41,
   "metadata": {},
   "outputs": [],
   "source": [
    "#This is used to revert all the changes made to the database using the insert command so it can reused for the challenge.\n",
    "connection.rollback()"
   ]
  }
 ],
 "metadata": {
  "kernelspec": {
   "display_name": "murder",
   "language": "python",
   "name": "python3"
  },
  "language_info": {
   "codemirror_mode": {
    "name": "ipython",
    "version": 3
   },
   "file_extension": ".py",
   "mimetype": "text/x-python",
   "name": "python",
   "nbconvert_exporter": "python",
   "pygments_lexer": "ipython3",
   "version": "3.12.3"
  }
 },
 "nbformat": 4,
 "nbformat_minor": 2
}
